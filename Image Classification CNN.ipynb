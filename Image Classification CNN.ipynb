{
 "cells": [
  {
   "cell_type": "code",
   "execution_count": 1,
   "metadata": {},
   "outputs": [],
   "source": [
    "import pandas as pd\n",
    "import os\n",
    "import glob as gb\n",
    "from tensorflow import keras\n",
    "\n",
    "from keras.models import Sequential\n",
    "from keras.layers import Conv2D\n",
    "from keras.layers import MaxPooling2D\n",
    "from keras.layers import Flatten\n",
    "from keras.layers import Dense"
   ]
  },
  {
   "cell_type": "code",
   "execution_count": 5,
   "metadata": {},
   "outputs": [],
   "source": [
    "TRAIN_DIR = \"C:/Users/hp/Downloads/eINTERFACE_2021_Image/train\"\n",
    "TEST_DIR = \"C:/Users/hp/Downloads/eINTERFACE_2021_Image/test\"\n",
    "BATCH_SIZE=64"
   ]
  },
  {
   "cell_type": "code",
   "execution_count": 6,
   "metadata": {},
   "outputs": [
    {
     "name": "stdout",
     "output_type": "stream",
     "text": [
      "For training data, found 1896 in folder Anger\n",
      "For training data, found 1891 in folder Disgust\n",
      "For training data, found 1922 in folder Fear\n",
      "For training data, found 1922 in folder Happiness\n",
      "For training data, found 1922 in folder Sadness\n",
      "For training data, found 1922 in folder Surprise\n"
     ]
    }
   ],
   "source": [
    "for folder in os.listdir(TRAIN_DIR):\n",
    "    files = gb.glob(pathname= str(TRAIN_DIR+ '/'+ folder + '/*.jpg'))\n",
    "    print(f'For training data, found {len(files)} in folder {folder}')"
   ]
  },
  {
   "cell_type": "code",
   "execution_count": 7,
   "metadata": {},
   "outputs": [
    {
     "name": "stdout",
     "output_type": "stream",
     "text": [
      "For testing data, found 237 in folder Anger\n",
      "For testing data, found 237 in folder Disgust\n",
      "For testing data, found 241 in folder Fear\n",
      "For testing data, found 241 in folder Happiness\n",
      "For testing data, found 241 in folder Sadness\n",
      "For testing data, found 241 in folder Surprise\n"
     ]
    }
   ],
   "source": [
    "for folder in os.listdir(TEST_DIR):\n",
    "    files = gb.glob(pathname= str(TEST_DIR+ '/'+ folder + '/*.jpg'))\n",
    "    print(f'For testing data, found {len(files)} in folder {folder}')"
   ]
  },
  {
   "cell_type": "code",
   "execution_count": 142,
   "metadata": {},
   "outputs": [],
   "source": [
    "import random\n",
    "import matplotlib.pyplot as plt\n",
    "import matplotlib.image as mpimg\n",
    "\n",
    "def view_random_image(target_dir, target_class):\n",
    "    \n",
    "    target_folder = target_dir + target_class\n",
    "    \n",
    "\n",
    "    random_image = random.sample(od.listdir(target_folder), 1)\n",
    "    \n",
    "    \n",
    "    img = mpimg.imread(target_folder+'/'+random_image[0])\n",
    "    plt.imshow(img)\n",
    "    plt.title(target_class)\n",
    "    plt.axis('off')\n",
    "    print(f\"Image shape {img.shape}\")\n",
    "    \n",
    "    return img"
   ]
  },
  {
   "cell_type": "code",
   "execution_count": 170,
   "metadata": {},
   "outputs": [],
   "source": [
    "import matplotlib.pyplot as plt\n",
    "import matplotlib.image as mpimg\n",
    "import random\n",
    "\n",
    "def view_random_image(target_dir, target_class):\n",
    "  target_folder = target_dir + target_class\n",
    "  random_image = random.sample(os.listdir(target_folder), 1)\n",
    "  img = mpimg.imread(target_folder + r'C:\\Users\\hp\\Downloads\\eINTERFACE_2021_Image\\train\\Anger\\18_jpg.rf.0bcb0d6d9667a17eace6abf2e690dece.jpg' + random_image[0])\n",
    "  plt.imshow(img)\n",
    "  plt.title(target_class)\n",
    "  plt.axis('off')"
   ]
  },
  {
   "cell_type": "code",
   "execution_count": 171,
   "metadata": {},
   "outputs": [
    {
     "name": "stdout",
     "output_type": "stream",
     "text": [
      "myvideo_frames20_jpg.rf.40007329593b4ad226662aef17cacaf7.jpg\n"
     ]
    }
   ],
   "source": [
    "import os\n",
    "import random\n",
    "from PIL import Image\n",
    "\n",
    "path = 'C:/Users/hp/Downloads/eINTERFACE_2021_Image/train/Surprise'  \n",
    "files = os.listdir(path)  \n",
    "randomFile = random.choice(files)  \n",
    "print(randomFile) \n",
    "\n",
    "image = Image.open(path + '/' + randomFile)  \n",
    "image.show()"
   ]
  },
  {
   "cell_type": "code",
   "execution_count": 9,
   "metadata": {},
   "outputs": [],
   "source": [
    "class_names = ['Anger','Disgust','Fear','Happiness','Sadness','Surprise']"
   ]
  },
  {
   "cell_type": "code",
   "execution_count": 12,
   "metadata": {},
   "outputs": [
    {
     "name": "stdout",
     "output_type": "stream",
     "text": [
      "Found 11475 images belonging to 6 classes.\n",
      "Found 1438 images belonging to 6 classes.\n"
     ]
    }
   ],
   "source": [
    "from keras.preprocessing.image import ImageDataGenerator\n",
    "\n",
    "train_datagen = ImageDataGenerator(rescale = 1./255,\n",
    "                                   shear_range = 0.2,\n",
    "                                   zoom_range = 0.2,\n",
    "                                   horizontal_flip = True)\n",
    "\n",
    "test_datagen = ImageDataGenerator(rescale = 1./255)\n",
    "\n",
    "training_set = train_datagen.flow_from_directory(TRAIN_DIR,\n",
    "                                                 target_size = (128, 128),\n",
    "                                                 batch_size = BATCH_SIZE,\n",
    "                                                 class_mode = 'categorical')\n",
    "\n",
    "test_set = test_datagen.flow_from_directory(TEST_DIR,\n",
    "                                            target_size = (128, 128),\n",
    "                                            batch_size = BATCH_SIZE,\n",
    "                                            class_mode = 'categorical')"
   ]
  },
  {
   "cell_type": "code",
   "execution_count": 13,
   "metadata": {},
   "outputs": [],
   "source": [
    "# Initialising the CNN\n",
    "classifier = Sequential()\n",
    "\n",
    "# Step 1 - Convolution\n",
    "classifier.add(Conv2D(16, (3, 3), input_shape = (128, 128, 3), activation = 'relu'))\n",
    "\n",
    "# Step 2 - Pooling\n",
    "classifier.add(MaxPooling2D(pool_size = (2, 2)))\n",
    "\n",
    "# Adding a second convolutional layer\n",
    "classifier.add(Conv2D(32, (3, 3), activation = 'relu'))\n",
    "classifier.add(MaxPooling2D(pool_size = (2, 2)))\n",
    "\n",
    "\n",
    "\n",
    "# Step 3 - Flattening\n",
    "classifier.add(Flatten())\n",
    "\n",
    "# Step 4 - Full connection\n",
    "classifier.add(Dense(units = 128, activation = 'relu'))\n",
    "\n",
    "classifier.add(Dense(units = 6, activation = 'softmax'))\n",
    "\n",
    "# Compiling the CNN\n",
    "classifier.compile(optimizer = 'adam', loss = 'categorical_crossentropy', metrics = ['accuracy'])"
   ]
  },
  {
   "cell_type": "code",
   "execution_count": 14,
   "metadata": {},
   "outputs": [
    {
     "name": "stdout",
     "output_type": "stream",
     "text": [
      "Model: \"sequential\"\n",
      "_________________________________________________________________\n",
      " Layer (type)                Output Shape              Param #   \n",
      "=================================================================\n",
      " conv2d (Conv2D)             (None, 126, 126, 16)      448       \n",
      "                                                                 \n",
      " max_pooling2d (MaxPooling2D  (None, 63, 63, 16)       0         \n",
      " )                                                               \n",
      "                                                                 \n",
      " conv2d_1 (Conv2D)           (None, 61, 61, 32)        4640      \n",
      "                                                                 \n",
      " max_pooling2d_1 (MaxPooling  (None, 30, 30, 32)       0         \n",
      " 2D)                                                             \n",
      "                                                                 \n",
      " flatten (Flatten)           (None, 28800)             0         \n",
      "                                                                 \n",
      " dense (Dense)               (None, 128)               3686528   \n",
      "                                                                 \n",
      " dense_1 (Dense)             (None, 6)                 774       \n",
      "                                                                 \n",
      "=================================================================\n",
      "Total params: 3,692,390\n",
      "Trainable params: 3,692,390\n",
      "Non-trainable params: 0\n",
      "_________________________________________________________________\n"
     ]
    }
   ],
   "source": [
    "classifier.summary()"
   ]
  },
  {
   "cell_type": "code",
   "execution_count": 15,
   "metadata": {},
   "outputs": [
    {
     "name": "stdout",
     "output_type": "stream",
     "text": [
      "Epoch 1/20\n",
      "180/180 [==============================] - 681s 4s/step - loss: 1.7999 - accuracy: 0.2166 - val_loss: 1.6653 - val_accuracy: 0.3011\n",
      "Epoch 2/20\n",
      "180/180 [==============================] - 458s 3s/step - loss: 1.5959 - accuracy: 0.3485 - val_loss: 1.5036 - val_accuracy: 0.3769\n",
      "Epoch 3/20\n",
      "180/180 [==============================] - 447s 2s/step - loss: 1.4518 - accuracy: 0.4161 - val_loss: 1.3098 - val_accuracy: 0.4604\n",
      "Epoch 4/20\n",
      "180/180 [==============================] - 448s 2s/step - loss: 1.3091 - accuracy: 0.4824 - val_loss: 1.1625 - val_accuracy: 0.5675\n",
      "Epoch 5/20\n",
      "180/180 [==============================] - 447s 2s/step - loss: 1.1803 - accuracy: 0.5373 - val_loss: 1.0841 - val_accuracy: 0.5556\n",
      "Epoch 6/20\n",
      "180/180 [==============================] - 474s 3s/step - loss: 1.0826 - accuracy: 0.5780 - val_loss: 1.0241 - val_accuracy: 0.5876\n",
      "Epoch 7/20\n",
      "180/180 [==============================] - 463s 3s/step - loss: 1.0109 - accuracy: 0.6066 - val_loss: 0.9252 - val_accuracy: 0.6530\n",
      "Epoch 8/20\n",
      "180/180 [==============================] - 733s 4s/step - loss: 0.9335 - accuracy: 0.6427 - val_loss: 0.8784 - val_accuracy: 0.6676\n",
      "Epoch 9/20\n",
      "180/180 [==============================] - 523s 3s/step - loss: 0.8791 - accuracy: 0.6637 - val_loss: 0.8307 - val_accuracy: 0.6773\n",
      "Epoch 10/20\n",
      "180/180 [==============================] - 503s 3s/step - loss: 0.8381 - accuracy: 0.6817 - val_loss: 0.8501 - val_accuracy: 0.6516\n",
      "Epoch 11/20\n",
      "180/180 [==============================] - 502s 3s/step - loss: 0.7862 - accuracy: 0.7018 - val_loss: 0.7252 - val_accuracy: 0.7239\n",
      "Epoch 12/20\n",
      "180/180 [==============================] - 610s 3s/step - loss: 0.7573 - accuracy: 0.7087 - val_loss: 0.6997 - val_accuracy: 0.7239\n",
      "Epoch 13/20\n",
      "180/180 [==============================] - 514s 3s/step - loss: 0.7220 - accuracy: 0.7270 - val_loss: 0.7919 - val_accuracy: 0.7010\n",
      "Epoch 14/20\n",
      "180/180 [==============================] - 491s 3s/step - loss: 0.6804 - accuracy: 0.7435 - val_loss: 0.8227 - val_accuracy: 0.6857\n",
      "Epoch 15/20\n",
      "180/180 [==============================] - 457s 3s/step - loss: 0.6487 - accuracy: 0.7555 - val_loss: 0.6562 - val_accuracy: 0.7636\n",
      "Epoch 16/20\n",
      "180/180 [==============================] - 455s 3s/step - loss: 0.6194 - accuracy: 0.7718 - val_loss: 0.7474 - val_accuracy: 0.7031\n",
      "Epoch 17/20\n",
      "180/180 [==============================] - 452s 3s/step - loss: 0.6009 - accuracy: 0.7798 - val_loss: 0.6008 - val_accuracy: 0.7733\n",
      "Epoch 18/20\n",
      "180/180 [==============================] - 576s 3s/step - loss: 0.5894 - accuracy: 0.7824 - val_loss: 0.5818 - val_accuracy: 0.7698\n",
      "Epoch 19/20\n",
      "180/180 [==============================] - 457s 3s/step - loss: 0.5705 - accuracy: 0.7870 - val_loss: 0.5589 - val_accuracy: 0.7844\n",
      "Epoch 20/20\n",
      "180/180 [==============================] - 1119s 6s/step - loss: 0.5274 - accuracy: 0.8064 - val_loss: 0.5121 - val_accuracy: 0.8178\n"
     ]
    }
   ],
   "source": [
    "history = classifier.fit(training_set,\n",
    "                         epochs = 20,\n",
    "                         validation_data = test_set)\n",
    "\n",
    "\n",
    "classifier.save('model1.h5')  "
   ]
  },
  {
   "cell_type": "code",
   "execution_count": 16,
   "metadata": {},
   "outputs": [
    {
     "name": "stdout",
     "output_type": "stream",
     "text": [
      "23/23 [==============================] - 26s 1s/step - loss: 0.5121 - accuracy: 0.8178\n"
     ]
    },
    {
     "data": {
      "text/plain": [
       "[0.5120704770088196, 0.8178024888038635]"
      ]
     },
     "execution_count": 16,
     "metadata": {},
     "output_type": "execute_result"
    }
   ],
   "source": [
    "classifier.evaluate(test_set)"
   ]
  },
  {
   "cell_type": "code",
   "execution_count": null,
   "metadata": {},
   "outputs": [],
   "source": [
    "pd.DataFrame(history.history)[['loss','val_loss']].plot()\n",
    "plt.title('Loss')\n",
    "plr.xlabel('epochs')\n",
    "plt.ylabel('Loss')"
   ]
  },
  {
   "cell_type": "code",
   "execution_count": null,
   "metadata": {},
   "outputs": [],
   "source": [
    "pd.DataFrame(history.history)[['accuracy','val_accuracy']].plot()\n",
    "plt.title('Accuracy')\n",
    "plr.xlabel('epochs')\n",
    "plt.ylabel('Accuracy')"
   ]
  },
  {
   "cell_type": "code",
   "execution_count": 20,
   "metadata": {},
   "outputs": [
    {
     "data": {
      "text/plain": [
       "3"
      ]
     },
     "execution_count": 20,
     "metadata": {},
     "output_type": "execute_result"
    }
   ],
   "source": [
    "model_path = \"model1.h5\"\n",
    "loaded_model = keras.models.load_model(model_path)\n",
    "\n",
    "import matplotlib.pyplot as plt\n",
    "import numpy as np\n",
    "import cv2\n",
    "from PIL import Image\n",
    "\n",
    "image = cv2.imread(\"C:/Users/hp/Downloads/eINTERFACE_2021_Image/test/Happiness/myvideo_frames10_jpg.rf.62ecb6d69a614aa8f9fd0a31a942f658.jpg\")\n",
    "\n",
    "image_fromarray = Image.fromarray(image, 'RGB')\n",
    "resize_image = image_fromarray.resize((128, 128))\n",
    "expand_input = np.expand_dims(resize_image,axis=0)\n",
    "input_data = np.array(expand_input)\n",
    "input_data = input_data/255\n",
    "\n",
    "pred = loaded_model.predict(input_data)\n",
    "result = pred.argmax()\n",
    "result"
   ]
  },
  {
   "cell_type": "code",
   "execution_count": 18,
   "metadata": {},
   "outputs": [
    {
     "data": {
      "text/plain": [
       "{'Anger': 0,\n",
       " 'Disgust': 1,\n",
       " 'Fear': 2,\n",
       " 'Happiness': 3,\n",
       " 'Sadness': 4,\n",
       " 'Surprise': 5}"
      ]
     },
     "execution_count": 18,
     "metadata": {},
     "output_type": "execute_result"
    }
   ],
   "source": [
    "training_set.class_indices"
   ]
  },
  {
   "cell_type": "code",
   "execution_count": 31,
   "metadata": {},
   "outputs": [
    {
     "data": {
      "image/png": "[encoded data removed]",
      "text/plain": [
       "<Figure size 432x288 with 1 Axes>"
      ]
     },
     "metadata": {
      "needs_background": "light"
     },
     "output_type": "display_data"
    }
   ],
   "source": [
    "import matplotlib.pyplot as plt\n",
    "import matplotlib.image as mpimg\n",
    "img = mpimg.imread('C:/Users/hp/Downloads/eINTERFACE_2021_Image/test/Happiness/myvideo_frames10_jpg.rf.62ecb6d69a614aa8f9fd0a31a942f658.jpg')\n",
    "imgplot = plt.imshow(img)\n",
    "plt.show()"
   ]
  },
  {
   "cell_type": "code",
   "execution_count": null,
   "metadata": {},
   "outputs": [],
   "source": []
  }
 ],
 "metadata": {
  "kernelspec": {
   "display_name": "Python 3",
   "language": "python",
   "name": "python3"
  },
  "language_info": {
   "codemirror_mode": {
    "name": "ipython",
    "version": 3
   },
   "file_extension": ".py",
   "mimetype": "text/x-python",
   "name": "python",
   "nbconvert_exporter": "python",
   "pygments_lexer": "ipython3",
   "version": "3.8.5"
  }
 },
 "nbformat": 4,
 "nbformat_minor": 4
}
